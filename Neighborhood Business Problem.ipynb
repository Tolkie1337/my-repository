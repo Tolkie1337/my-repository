{
 "cells": [
  {
   "cell_type": "markdown",
   "metadata": {
    "collapsed": true
   },
   "source": [
    "# The Battle of Neighborhoods: Introduction/Business Problem"
   ]
  },
  {
   "cell_type": "markdown",
   "metadata": {},
   "source": [
    "## Introduction:"
   ]
  },
  {
   "cell_type": "markdown",
   "metadata": {},
   "source": [
    "The main objective of this project is to help in exploring better facilities around their neighborhood. It will help in making a smart and efficient decision on choosing excellent neighborhoods in Scarborough, Toronto.\n",
    "\n",
    "Many people are migrating to different states of Canada and need to research sound housing prices and reputed schools for their children. This model will be able to aid in that process, by easily accessing Cafe, School, Supermarket, medical shops, grocery shops, mall, theater or hospital information etc.\n",
    "\n",
    "This project intends to create an analysis of features for people who are migrating to Scarborough in search of the best neighborhood as a relative analysis between neighborhoods. The highlights include median housing price and better school according to ratings, crime rates, road connectivity, weather conditions, water resources  and recreational facilities of that particular area.\n",
    "\n",
    "It will help people become aware of the area and neighborhood before moving to a new city, state, country or place for their work or new life.\n"
   ]
  },
  {
   "cell_type": "markdown",
   "metadata": {},
   "source": [
    "## Problem:"
   ]
  },
  {
   "cell_type": "markdown",
   "metadata": {},
   "source": [
    "The major goal of this project is to recommend a better neighborhood in a new city for a moving person. Social presence in society in terms of like-minded people. Connectivity to the airport, bus stand, city center, markets and other daily needs things nearby.\n",
    "\n"
   ]
  },
  {
   "cell_type": "code",
   "execution_count": null,
   "metadata": {},
   "outputs": [],
   "source": []
  }
 ],
 "metadata": {
  "kernelspec": {
   "display_name": "Python 3",
   "language": "python",
   "name": "python3"
  },
  "language_info": {
   "codemirror_mode": {
    "name": "ipython",
    "version": 3
   },
   "file_extension": ".py",
   "mimetype": "text/x-python",
   "name": "python",
   "nbconvert_exporter": "python",
   "pygments_lexer": "ipython3",
   "version": "3.7.3"
  }
 },
 "nbformat": 4,
 "nbformat_minor": 1
}
